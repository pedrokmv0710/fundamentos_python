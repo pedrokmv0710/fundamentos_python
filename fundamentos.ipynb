{
 "cells": [
  {
   "cell_type": "markdown",
   "id": "51aa01af",
   "metadata": {},
   "source": [
    "### Fundamentos de Python\n",
    "* Variables\n",
    "* Operadores matematicos\n",
    "    - Operadores logicos\n",
    "    - Operadores de comparacion\n",
    "* Condicionales\n",
    "    - Simples\n",
    "    - Compuestos\n",
    "    - Anidados\n",
    "    - Encadenados\n",
    "* Ciclos\n",
    "    - Finitos (for)\n",
    "    - Infinitos (while)\n",
    "* Funciones\n",
    "* Estructuras de datos\n",
    "    - Caracteres\n",
    "    - Enteros\n",
    "    - Flotantes\n",
    "    - Listas\n",
    "    - Diccionarios\n",
    "    - Tuplas\n",
    "* Fundamentos de POO\n"
   ]
  },
  {
   "cell_type": "code",
   "execution_count": 2,
   "id": "3eb514b5",
   "metadata": {},
   "outputs": [
    {
     "name": "stdout",
     "output_type": "stream",
     "text": [
      "Epale\n"
     ]
    }
   ],
   "source": [
    "print(\"Epale\")"
   ]
  },
  {
   "cell_type": "code",
   "execution_count": null,
   "id": "20d7be7f",
   "metadata": {},
   "outputs": [],
   "source": [
    "# variables\n",
    "name = \"Javier\""
   ]
  },
  {
   "cell_type": "code",
   "execution_count": null,
   "id": "c86764ce",
   "metadata": {},
   "outputs": [],
   "source": [
    "last_name = \"Gonzalez\""
   ]
  },
  {
   "cell_type": "code",
   "execution_count": 4,
   "id": "dec6a98a",
   "metadata": {},
   "outputs": [],
   "source": [
    "LastName = \"Primero\""
   ]
  },
  {
   "cell_type": "code",
   "execution_count": null,
   "id": "c06a5ba8",
   "metadata": {},
   "outputs": [],
   "source": [
    "Name = \"Segundo\""
   ]
  },
  {
   "cell_type": "code",
   "execution_count": null,
   "id": "a316d270",
   "metadata": {},
   "outputs": [],
   "source": [
    "NAME = \"Tercero\""
   ]
  },
  {
   "cell_type": "code",
   "execution_count": null,
   "id": "b4ca87d5",
   "metadata": {},
   "outputs": [],
   "source": [
    "# operadores matematicos\n",
    "suma = 2 + 2\n",
    "resta = 2 - 2\n",
    "multiplicacion = 2 * 2\n",
    "division = 2 / 2 "
   ]
  },
  {
   "cell_type": "code",
   "execution_count": null,
   "id": "8ff795dc",
   "metadata": {},
   "outputs": [],
   "source": [
    "number = 12\n",
    "number2 = 20 "
   ]
  },
  {
   "cell_type": "code",
   "execution_count": null,
   "id": "ef0b047a",
   "metadata": {},
   "outputs": [],
   "source": [
    "suma = number + number2 \n",
    "resta = number - number2\n",
    "multiplicacion = number * number2\n",
    "division = number / number2"
   ]
  },
  {
   "cell_type": "code",
   "execution_count": null,
   "id": "ab33d549",
   "metadata": {},
   "outputs": [],
   "source": [
    "print(suma) \n",
    "print(resta) "
   ]
  },
  {
   "cell_type": "code",
   "execution_count": null,
   "id": "03d89639",
   "metadata": {},
   "outputs": [],
   "source": [
    "print(f\"El resultado de la suma es: {suma}\") \n",
    "print(f\"El resultado de la resta es: {resta}\") \n",
    "print(f\"El resultado de la multiplicacion es: {multiplicacion}\")\n",
    "print(f\"El resultado de la division es: {division}\")"
   ]
  },
  {
   "cell_type": "code",
   "execution_count": null,
   "id": "565a333d",
   "metadata": {},
   "outputs": [],
   "source": [
    "# oeradores de comparacion\n",
    "# igual a ==\n",
    "# diferente de !=\n",
    "# mayor que >\n",
    "# menor que <\n",
    "# mayor o igual que >= \n",
    "# menor o igual que <= "
   ]
  },
  {
   "cell_type": "code",
   "execution_count": 9,
   "id": "80f5a698",
   "metadata": {},
   "outputs": [
    {
     "data": {
      "text/plain": [
       "True"
      ]
     },
     "execution_count": 9,
     "metadata": {},
     "output_type": "execute_result"
    }
   ],
   "source": [
    "3== 3 # True"
   ]
  },
  {
   "cell_type": "code",
   "execution_count": 10,
   "id": "e41ec8c9",
   "metadata": {},
   "outputs": [
    {
     "data": {
      "text/plain": [
       "False"
      ]
     },
     "execution_count": 10,
     "metadata": {},
     "output_type": "execute_result"
    }
   ],
   "source": [
    "3 != 3 "
   ]
  },
  {
   "cell_type": "code",
   "execution_count": 11,
   "id": "aef165a9",
   "metadata": {},
   "outputs": [
    {
     "data": {
      "text/plain": [
       "False"
      ]
     },
     "execution_count": 11,
     "metadata": {},
     "output_type": "execute_result"
    }
   ],
   "source": [
    "number1= 12\n",
    "number2= 20\n",
    "number1 == number2 "
   ]
  },
  {
   "cell_type": "code",
   "execution_count": null,
   "id": "d089ea1a",
   "metadata": {},
   "outputs": [
    {
     "name": "stdout",
     "output_type": "stream",
     "text": [
      "12\n",
      "20\n",
      "number1 es mayor que number2\n"
     ]
    }
   ],
   "source": [
    "# condicionales\n",
    "number1= 12\n",
    "number2= 20\n",
    "print(number1)\n",
    "print(number2) \n",
    "\n",
    "if number1 < number2:  \n",
    "    print(\"number1 es mayor que number2\")\n"
   ]
  },
  {
   "cell_type": "code",
   "execution_count": 19,
   "id": "cb0bb296",
   "metadata": {},
   "outputs": [
    {
     "name": "stdout",
     "output_type": "stream",
     "text": [
      "14\n",
      "12\n",
      "number1 es mayor que number2\n"
     ]
    }
   ],
   "source": [
    "# condicionales\n",
    "number1= 14\n",
    "number2= 12\n",
    "print(number1)\n",
    "print(number2) \n",
    "\n",
    "if number1 > number2:  \n",
    "    print(\"number1 es mayor que number2\")\n",
    "elif number1 < number2:\n",
    "    print(\"number1 es menor que number2\") \n",
    "elif number1 == number2:\n",
    "    print(\"number1 es igual que number2\") \n",
    "# else:\n",
    "    # print(\"number1 es igual que number2\") "
   ]
  },
  {
   "cell_type": "code",
   "execution_count": null,
   "id": "02c92fac",
   "metadata": {},
   "outputs": [
    {
     "name": "stdout",
     "output_type": "stream",
     "text": [
      "14\n",
      "12\n",
      "number1 es mayor que 10\n",
      "number1 es mayor que number2\n"
     ]
    }
   ],
   "source": [
    "# condicionales\n",
    "number1= 14\n",
    "number2= 12\n",
    "print(number1)\n",
    "print(number2) \n",
    "\n",
    "if number1 > number2:\n",
    "    if number1 > 10:  \n",
    "        print(\"number1 es mayor que number2\")\n",
    "    else:\n",
    "        print(\"number1 es menor que number2\") \n",
    "else:\n",
    "    print(\"number1 es mayor que number2\")"
   ]
  },
  {
   "cell_type": "code",
   "execution_count": null,
   "id": "1332511c",
   "metadata": {},
   "outputs": [
    {
     "data": {
      "text/plain": [
       "'Josefino'"
      ]
     },
     "execution_count": 24,
     "metadata": {},
     "output_type": "execute_result"
    }
   ],
   "source": [
    "# Estructuras de datos\n",
    "# strings\n",
    "name = \"josefino\" \n",
    "type(name)\n",
    "name.capitalize()"
   ]
  },
  {
   "cell_type": "code",
   "execution_count": null,
   "id": "881935b2",
   "metadata": {},
   "outputs": [
    {
     "data": {
      "text/plain": [
       "int"
      ]
     },
     "execution_count": 26,
     "metadata": {},
     "output_type": "execute_result"
    }
   ],
   "source": [
    "number1= 14\n",
    "type(number1)  "
   ]
  },
  {
   "cell_type": "code",
   "execution_count": 27,
   "id": "3293478b",
   "metadata": {},
   "outputs": [
    {
     "data": {
      "text/plain": [
       "float"
      ]
     },
     "execution_count": 27,
     "metadata": {},
     "output_type": "execute_result"
    }
   ],
   "source": [
    "number2= 12.45\n",
    "type(number2)"
   ]
  },
  {
   "cell_type": "code",
   "execution_count": 33,
   "id": "3a97d532",
   "metadata": {},
   "outputs": [
    {
     "name": "stdout",
     "output_type": "stream",
     "text": [
      "['jose', 'javier', 'pedro', 'josefino', 'teresa']\n",
      "teresa\n"
     ]
    }
   ],
   "source": [
    "# listas\n",
    "name_list = [\"jose\", \"javier\", \"pedro\", \"josefino\"] \n",
    "name_list.append(\"teresa\")\n",
    "print(name_list)\n",
    "print(name_list[-1])\n"
   ]
  },
  {
   "cell_type": "code",
   "execution_count": null,
   "id": "1e5a2f54",
   "metadata": {},
   "outputs": [
    {
     "name": "stdout",
     "output_type": "stream",
     "text": [
      "[23, 32, 45, 50]\n"
     ]
    }
   ],
   "source": [
    "age_list = [20, 30, 40, 50]\n",
    "age_list2 = [23,\n",
    "            32,\n",
    "            45,\n",
    "            50]\n",
    "print(age_list2)"
   ]
  },
  {
   "cell_type": "code",
   "execution_count": 40,
   "id": "f15c5b21",
   "metadata": {},
   "outputs": [
    {
     "name": "stdout",
     "output_type": "stream",
     "text": [
      "['javier', 'pedro']\n"
     ]
    },
    {
     "data": {
      "text/plain": [
       "4"
      ]
     },
     "execution_count": 40,
     "metadata": {},
     "output_type": "execute_result"
    }
   ],
   "source": [
    "# slice de una lista\n",
    "name_list = [\"jose\", \"javier\", \"pedro\", \"josefino\"] \n",
    "print(name_list[1:-1])\n",
    "len(name_list)"
   ]
  },
  {
   "cell_type": "code",
   "execution_count": null,
   "id": "36d62d2f",
   "metadata": {},
   "outputs": [
    {
     "name": "stdout",
     "output_type": "stream",
     "text": [
      "jose\n",
      "javier\n",
      "pedro\n",
      "josefino\n"
     ]
    }
   ],
   "source": [
    "# Ciclos finitos\n",
    "name_list = [\"jose\", \"javier\", \"pedro\", \"josefino\"] \n",
    "for name in name_list:\n",
    "    print(name) "
   ]
  },
  {
   "cell_type": "code",
   "execution_count": 44,
   "id": "a8c07c45",
   "metadata": {},
   "outputs": [
    {
     "name": "stdout",
     "output_type": "stream",
     "text": [
      "2\n"
     ]
    }
   ],
   "source": [
    "# Ciclos finitos\n",
    "name_list = [\"jose\", \"javier\", \"pedro\", \"josefino\"] \n",
    "for name in name_list:\n",
    "    if name == \"pedro\":\n",
    "        # imprime su posicion\n",
    "        print(name_list.index(name))"
   ]
  },
  {
   "cell_type": "code",
   "execution_count": 1,
   "id": "1ca11fe9",
   "metadata": {},
   "outputs": [
    {
     "name": "stdout",
     "output_type": "stream",
     "text": [
      "pedro\n",
      "2\n"
     ]
    }
   ],
   "source": [
    "# recorrido de una lista por indices\n",
    "name_list = [\"jose\", \"javier\", \"pedro\", \"josefino\"]\n",
    "for item in range(len(name_list)): \n",
    "    if name_list[item] == \"pedro\":\n",
    "        # imprime su posicion\n",
    "        print(name_list[item])\n",
    "        print(item)\n",
    "    "
   ]
  },
  {
   "cell_type": "code",
   "execution_count": 2,
   "id": "94e71fa8",
   "metadata": {},
   "outputs": [
    {
     "name": "stdout",
     "output_type": "stream",
     "text": [
      "5\n",
      "6\n",
      "7\n",
      "8\n",
      "9\n",
      "10\n"
     ]
    }
   ],
   "source": [
    "# rango de valores con range \n",
    "for i in range(5, 11): \n",
    "    print(i)"
   ]
  },
  {
   "cell_type": "code",
   "execution_count": null,
   "id": "280f9a72",
   "metadata": {},
   "outputs": [],
   "source": []
  }
 ],
 "metadata": {
  "kernelspec": {
   "display_name": "Python 3",
   "language": "python",
   "name": "python3"
  },
  "language_info": {
   "codemirror_mode": {
    "name": "ipython",
    "version": 3
   },
   "file_extension": ".py",
   "mimetype": "text/x-python",
   "name": "python",
   "nbconvert_exporter": "python",
   "pygments_lexer": "ipython3",
   "version": "3.13.3"
  }
 },
 "nbformat": 4,
 "nbformat_minor": 5
}
